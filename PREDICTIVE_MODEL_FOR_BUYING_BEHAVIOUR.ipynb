{
  "nbformat": 4,
  "nbformat_minor": 0,
  "metadata": {
    "colab": {
      "provenance": []
    },
    "kernelspec": {
      "name": "python3",
      "display_name": "Python 3"
    },
    "language_info": {
      "name": "python"
    }
  },
  "cells": [
    {
      "cell_type": "markdown",
      "source": [
        "## **PREDICTIVE MODEL FOR BUYING BEHAVOUR**"
      ],
      "metadata": {
        "id": "0zNmZE3M5FtT"
      }
    },
    {
      "cell_type": "code",
      "source": [
        "#import necessaries libraries\n",
        "import pandas as pd\n",
        "import numpy as np\n",
        "import matplotlib.pyplot as plt\n",
        "import seaborn as sns\n",
        "import os\n",
        "from sklearn.preprocessing import OneHotEncoder"
      ],
      "metadata": {
        "id": "_I7BNedL5QzN"
      },
      "execution_count": 144,
      "outputs": []
    },
    {
      "cell_type": "code",
      "source": [
        "# get current working directory\n",
        "cwd = os.getcwd()\n",
        "\n",
        "df = pd.read_csv(cwd + \"/filt_customer_booking.csv\", index_col=0)"
      ],
      "metadata": {
        "id": "RjX49MTq5eJ9"
      },
      "execution_count": 145,
      "outputs": []
    },
    {
      "cell_type": "code",
      "source": [
        "df = df.reset_index(drop=True)"
      ],
      "metadata": {
        "id": "XJrxPmBu55Pd"
      },
      "execution_count": 146,
      "outputs": []
    },
    {
      "cell_type": "code",
      "source": [
        "df.head()"
      ],
      "metadata": {
        "colab": {
          "base_uri": "https://localhost:8080/",
          "height": 270
        },
        "id": "FPtaKiU55zwU",
        "outputId": "8f645d60-2b12-4a8e-c809-40fa19c6a2c0"
      },
      "execution_count": 147,
      "outputs": [
        {
          "output_type": "execute_result",
          "data": {
            "text/plain": [
              "   num_passengers sales_channel  trip_type  purchase_lead  length_of_stay  \\\n",
              "0               2      Internet  RoundTrip            262              19   \n",
              "1               1      Internet  RoundTrip            112              20   \n",
              "2               2      Internet  RoundTrip            243              22   \n",
              "3               1      Internet  RoundTrip             96              31   \n",
              "4               2      Internet  RoundTrip             68              22   \n",
              "\n",
              "   flight_hour  flight_day   route booking_origin  wants_extra_baggage  \\\n",
              "0            7           6  AKLDEL    New Zealand                    1   \n",
              "1            3           6  AKLDEL    New Zealand                    0   \n",
              "2           17           3  AKLDEL          India                    1   \n",
              "3            4           6  AKLDEL    New Zealand                    0   \n",
              "4           15           3  AKLDEL          India                    1   \n",
              "\n",
              "   wants_preferred_seat  wants_in_flight_meals  flight_duration  \\\n",
              "0                     0                      0             5.52   \n",
              "1                     0                      0             5.52   \n",
              "2                     1                      0             5.52   \n",
              "3                     0                      1             5.52   \n",
              "4                     0                      1             5.52   \n",
              "\n",
              "   booking_complete  \n",
              "0                 0  \n",
              "1                 0  \n",
              "2                 0  \n",
              "3                 0  \n",
              "4                 0  "
            ],
            "text/html": [
              "\n",
              "  <div id=\"df-2bc2ba90-b5f4-41f6-872c-420304f53244\">\n",
              "    <div class=\"colab-df-container\">\n",
              "      <div>\n",
              "<style scoped>\n",
              "    .dataframe tbody tr th:only-of-type {\n",
              "        vertical-align: middle;\n",
              "    }\n",
              "\n",
              "    .dataframe tbody tr th {\n",
              "        vertical-align: top;\n",
              "    }\n",
              "\n",
              "    .dataframe thead th {\n",
              "        text-align: right;\n",
              "    }\n",
              "</style>\n",
              "<table border=\"1\" class=\"dataframe\">\n",
              "  <thead>\n",
              "    <tr style=\"text-align: right;\">\n",
              "      <th></th>\n",
              "      <th>num_passengers</th>\n",
              "      <th>sales_channel</th>\n",
              "      <th>trip_type</th>\n",
              "      <th>purchase_lead</th>\n",
              "      <th>length_of_stay</th>\n",
              "      <th>flight_hour</th>\n",
              "      <th>flight_day</th>\n",
              "      <th>route</th>\n",
              "      <th>booking_origin</th>\n",
              "      <th>wants_extra_baggage</th>\n",
              "      <th>wants_preferred_seat</th>\n",
              "      <th>wants_in_flight_meals</th>\n",
              "      <th>flight_duration</th>\n",
              "      <th>booking_complete</th>\n",
              "    </tr>\n",
              "  </thead>\n",
              "  <tbody>\n",
              "    <tr>\n",
              "      <th>0</th>\n",
              "      <td>2</td>\n",
              "      <td>Internet</td>\n",
              "      <td>RoundTrip</td>\n",
              "      <td>262</td>\n",
              "      <td>19</td>\n",
              "      <td>7</td>\n",
              "      <td>6</td>\n",
              "      <td>AKLDEL</td>\n",
              "      <td>New Zealand</td>\n",
              "      <td>1</td>\n",
              "      <td>0</td>\n",
              "      <td>0</td>\n",
              "      <td>5.52</td>\n",
              "      <td>0</td>\n",
              "    </tr>\n",
              "    <tr>\n",
              "      <th>1</th>\n",
              "      <td>1</td>\n",
              "      <td>Internet</td>\n",
              "      <td>RoundTrip</td>\n",
              "      <td>112</td>\n",
              "      <td>20</td>\n",
              "      <td>3</td>\n",
              "      <td>6</td>\n",
              "      <td>AKLDEL</td>\n",
              "      <td>New Zealand</td>\n",
              "      <td>0</td>\n",
              "      <td>0</td>\n",
              "      <td>0</td>\n",
              "      <td>5.52</td>\n",
              "      <td>0</td>\n",
              "    </tr>\n",
              "    <tr>\n",
              "      <th>2</th>\n",
              "      <td>2</td>\n",
              "      <td>Internet</td>\n",
              "      <td>RoundTrip</td>\n",
              "      <td>243</td>\n",
              "      <td>22</td>\n",
              "      <td>17</td>\n",
              "      <td>3</td>\n",
              "      <td>AKLDEL</td>\n",
              "      <td>India</td>\n",
              "      <td>1</td>\n",
              "      <td>1</td>\n",
              "      <td>0</td>\n",
              "      <td>5.52</td>\n",
              "      <td>0</td>\n",
              "    </tr>\n",
              "    <tr>\n",
              "      <th>3</th>\n",
              "      <td>1</td>\n",
              "      <td>Internet</td>\n",
              "      <td>RoundTrip</td>\n",
              "      <td>96</td>\n",
              "      <td>31</td>\n",
              "      <td>4</td>\n",
              "      <td>6</td>\n",
              "      <td>AKLDEL</td>\n",
              "      <td>New Zealand</td>\n",
              "      <td>0</td>\n",
              "      <td>0</td>\n",
              "      <td>1</td>\n",
              "      <td>5.52</td>\n",
              "      <td>0</td>\n",
              "    </tr>\n",
              "    <tr>\n",
              "      <th>4</th>\n",
              "      <td>2</td>\n",
              "      <td>Internet</td>\n",
              "      <td>RoundTrip</td>\n",
              "      <td>68</td>\n",
              "      <td>22</td>\n",
              "      <td>15</td>\n",
              "      <td>3</td>\n",
              "      <td>AKLDEL</td>\n",
              "      <td>India</td>\n",
              "      <td>1</td>\n",
              "      <td>0</td>\n",
              "      <td>1</td>\n",
              "      <td>5.52</td>\n",
              "      <td>0</td>\n",
              "    </tr>\n",
              "  </tbody>\n",
              "</table>\n",
              "</div>\n",
              "      <button class=\"colab-df-convert\" onclick=\"convertToInteractive('df-2bc2ba90-b5f4-41f6-872c-420304f53244')\"\n",
              "              title=\"Convert this dataframe to an interactive table.\"\n",
              "              style=\"display:none;\">\n",
              "        \n",
              "  <svg xmlns=\"http://www.w3.org/2000/svg\" height=\"24px\"viewBox=\"0 0 24 24\"\n",
              "       width=\"24px\">\n",
              "    <path d=\"M0 0h24v24H0V0z\" fill=\"none\"/>\n",
              "    <path d=\"M18.56 5.44l.94 2.06.94-2.06 2.06-.94-2.06-.94-.94-2.06-.94 2.06-2.06.94zm-11 1L8.5 8.5l.94-2.06 2.06-.94-2.06-.94L8.5 2.5l-.94 2.06-2.06.94zm10 10l.94 2.06.94-2.06 2.06-.94-2.06-.94-.94-2.06-.94 2.06-2.06.94z\"/><path d=\"M17.41 7.96l-1.37-1.37c-.4-.4-.92-.59-1.43-.59-.52 0-1.04.2-1.43.59L10.3 9.45l-7.72 7.72c-.78.78-.78 2.05 0 2.83L4 21.41c.39.39.9.59 1.41.59.51 0 1.02-.2 1.41-.59l7.78-7.78 2.81-2.81c.8-.78.8-2.07 0-2.86zM5.41 20L4 18.59l7.72-7.72 1.47 1.35L5.41 20z\"/>\n",
              "  </svg>\n",
              "      </button>\n",
              "      \n",
              "  <style>\n",
              "    .colab-df-container {\n",
              "      display:flex;\n",
              "      flex-wrap:wrap;\n",
              "      gap: 12px;\n",
              "    }\n",
              "\n",
              "    .colab-df-convert {\n",
              "      background-color: #E8F0FE;\n",
              "      border: none;\n",
              "      border-radius: 50%;\n",
              "      cursor: pointer;\n",
              "      display: none;\n",
              "      fill: #1967D2;\n",
              "      height: 32px;\n",
              "      padding: 0 0 0 0;\n",
              "      width: 32px;\n",
              "    }\n",
              "\n",
              "    .colab-df-convert:hover {\n",
              "      background-color: #E2EBFA;\n",
              "      box-shadow: 0px 1px 2px rgba(60, 64, 67, 0.3), 0px 1px 3px 1px rgba(60, 64, 67, 0.15);\n",
              "      fill: #174EA6;\n",
              "    }\n",
              "\n",
              "    [theme=dark] .colab-df-convert {\n",
              "      background-color: #3B4455;\n",
              "      fill: #D2E3FC;\n",
              "    }\n",
              "\n",
              "    [theme=dark] .colab-df-convert:hover {\n",
              "      background-color: #434B5C;\n",
              "      box-shadow: 0px 1px 3px 1px rgba(0, 0, 0, 0.15);\n",
              "      filter: drop-shadow(0px 1px 2px rgba(0, 0, 0, 0.3));\n",
              "      fill: #FFFFFF;\n",
              "    }\n",
              "  </style>\n",
              "\n",
              "      <script>\n",
              "        const buttonEl =\n",
              "          document.querySelector('#df-2bc2ba90-b5f4-41f6-872c-420304f53244 button.colab-df-convert');\n",
              "        buttonEl.style.display =\n",
              "          google.colab.kernel.accessAllowed ? 'block' : 'none';\n",
              "\n",
              "        async function convertToInteractive(key) {\n",
              "          const element = document.querySelector('#df-2bc2ba90-b5f4-41f6-872c-420304f53244');\n",
              "          const dataTable =\n",
              "            await google.colab.kernel.invokeFunction('convertToInteractive',\n",
              "                                                     [key], {});\n",
              "          if (!dataTable) return;\n",
              "\n",
              "          const docLinkHtml = 'Like what you see? Visit the ' +\n",
              "            '<a target=\"_blank\" href=https://colab.research.google.com/notebooks/data_table.ipynb>data table notebook</a>'\n",
              "            + ' to learn more about interactive tables.';\n",
              "          element.innerHTML = '';\n",
              "          dataTable['output_type'] = 'display_data';\n",
              "          await google.colab.output.renderOutput(dataTable, element);\n",
              "          const docLink = document.createElement('div');\n",
              "          docLink.innerHTML = docLinkHtml;\n",
              "          element.appendChild(docLink);\n",
              "        }\n",
              "      </script>\n",
              "    </div>\n",
              "  </div>\n",
              "  "
            ]
          },
          "metadata": {},
          "execution_count": 147
        }
      ]
    },
    {
      "cell_type": "markdown",
      "source": [
        "### **ONE HOT ENCODING FOR CATEGORICAL VARIABLES & SPLITTING TRAIN AND TESTING DATA**"
      ],
      "metadata": {
        "id": "V3tkJF6w6AN-"
      }
    },
    {
      "cell_type": "code",
      "source": [
        "df_final = df"
      ],
      "metadata": {
        "id": "hKjMOaGw504a"
      },
      "execution_count": 148,
      "outputs": []
    },
    {
      "cell_type": "code",
      "source": [
        "#create instance of one hot encoder\n",
        "encoder = OneHotEncoder(handle_unknown='ignore')\n",
        "\n",
        "#one hot encode Sales Channel\n",
        "encoder_df = pd.DataFrame(encoder.fit_transform(df[[\"sales_channel\"]]).toarray())\n",
        "encoder_df = encoder_df.rename(columns={0:'Internet', 1:'Mobile'})\n",
        "df_final = df_final.join(encoder_df)\n",
        "\n",
        "#one hot encode trip type\n",
        "encoder_df = pd.DataFrame(encoder.fit_transform(df[[\"trip_type\"]]).toarray())\n",
        "encoder_df = encoder_df.rename(columns={0:'RoundTRip', 1:'OneWayTrip',2:'CircleTrip'})\n",
        "df_final = df_final.join(encoder_df)"
      ],
      "metadata": {
        "id": "XPN31V9t6LV6"
      },
      "execution_count": 149,
      "outputs": []
    },
    {
      "cell_type": "code",
      "source": [
        "#drop categorical columns now\n",
        "df_final.drop(['sales_channel', 'trip_type','booking_origin', 'route'], axis=1, inplace = True)"
      ],
      "metadata": {
        "id": "wRvMKgCT6SsE"
      },
      "execution_count": 150,
      "outputs": []
    },
    {
      "cell_type": "code",
      "source": [
        "#store the label for supervised learning\n",
        "label = df['booking_complete']"
      ],
      "metadata": {
        "id": "jvIasQDy6bQJ"
      },
      "execution_count": 151,
      "outputs": []
    },
    {
      "cell_type": "code",
      "source": [
        "df_final = df_final.drop('booking_complete', axis=1)"
      ],
      "metadata": {
        "id": "8jQw_SiX6ciJ"
      },
      "execution_count": 152,
      "outputs": []
    },
    {
      "cell_type": "code",
      "source": [
        "df_final"
      ],
      "metadata": {
        "colab": {
          "base_uri": "https://localhost:8080/",
          "height": 487
        },
        "id": "_Xkqz_qb6lPG",
        "outputId": "70ae760c-64b1-4c5a-bc6e-d9d2907258da"
      },
      "execution_count": 153,
      "outputs": [
        {
          "output_type": "execute_result",
          "data": {
            "text/plain": [
              "       num_passengers  purchase_lead  length_of_stay  flight_hour  flight_day  \\\n",
              "0                   2            262              19            7           6   \n",
              "1                   1            112              20            3           6   \n",
              "2                   2            243              22           17           3   \n",
              "3                   1             96              31            4           6   \n",
              "4                   2             68              22           15           3   \n",
              "...               ...            ...             ...          ...         ...   \n",
              "49977               2             27               6            9           6   \n",
              "49978               1            111               6            4           7   \n",
              "49979               1             24               6           22           6   \n",
              "49980               1             15               6           11           1   \n",
              "49981               1             19               6           10           4   \n",
              "\n",
              "       wants_extra_baggage  wants_preferred_seat  wants_in_flight_meals  \\\n",
              "0                        1                     0                      0   \n",
              "1                        0                     0                      0   \n",
              "2                        1                     1                      0   \n",
              "3                        0                     0                      1   \n",
              "4                        1                     0                      1   \n",
              "...                    ...                   ...                    ...   \n",
              "49977                    1                     0                      1   \n",
              "49978                    0                     0                      0   \n",
              "49979                    0                     0                      1   \n",
              "49980                    1                     0                      1   \n",
              "49981                    0                     1                      0   \n",
              "\n",
              "       flight_duration  Internet  Mobile  RoundTRip  OneWayTrip  CircleTrip  \n",
              "0                 5.52       1.0     0.0        0.0         0.0         1.0  \n",
              "1                 5.52       1.0     0.0        0.0         0.0         1.0  \n",
              "2                 5.52       1.0     0.0        0.0         0.0         1.0  \n",
              "3                 5.52       1.0     0.0        0.0         0.0         1.0  \n",
              "4                 5.52       1.0     0.0        0.0         0.0         1.0  \n",
              "...                ...       ...     ...        ...         ...         ...  \n",
              "49977             5.62       1.0     0.0        0.0         0.0         1.0  \n",
              "49978             5.62       1.0     0.0        0.0         0.0         1.0  \n",
              "49979             5.62       1.0     0.0        0.0         0.0         1.0  \n",
              "49980             5.62       1.0     0.0        0.0         0.0         1.0  \n",
              "49981             5.62       1.0     0.0        0.0         0.0         1.0  \n",
              "\n",
              "[49982 rows x 14 columns]"
            ],
            "text/html": [
              "\n",
              "  <div id=\"df-d4f08f57-95db-4616-884e-5f5b7ba8ef8d\">\n",
              "    <div class=\"colab-df-container\">\n",
              "      <div>\n",
              "<style scoped>\n",
              "    .dataframe tbody tr th:only-of-type {\n",
              "        vertical-align: middle;\n",
              "    }\n",
              "\n",
              "    .dataframe tbody tr th {\n",
              "        vertical-align: top;\n",
              "    }\n",
              "\n",
              "    .dataframe thead th {\n",
              "        text-align: right;\n",
              "    }\n",
              "</style>\n",
              "<table border=\"1\" class=\"dataframe\">\n",
              "  <thead>\n",
              "    <tr style=\"text-align: right;\">\n",
              "      <th></th>\n",
              "      <th>num_passengers</th>\n",
              "      <th>purchase_lead</th>\n",
              "      <th>length_of_stay</th>\n",
              "      <th>flight_hour</th>\n",
              "      <th>flight_day</th>\n",
              "      <th>wants_extra_baggage</th>\n",
              "      <th>wants_preferred_seat</th>\n",
              "      <th>wants_in_flight_meals</th>\n",
              "      <th>flight_duration</th>\n",
              "      <th>Internet</th>\n",
              "      <th>Mobile</th>\n",
              "      <th>RoundTRip</th>\n",
              "      <th>OneWayTrip</th>\n",
              "      <th>CircleTrip</th>\n",
              "    </tr>\n",
              "  </thead>\n",
              "  <tbody>\n",
              "    <tr>\n",
              "      <th>0</th>\n",
              "      <td>2</td>\n",
              "      <td>262</td>\n",
              "      <td>19</td>\n",
              "      <td>7</td>\n",
              "      <td>6</td>\n",
              "      <td>1</td>\n",
              "      <td>0</td>\n",
              "      <td>0</td>\n",
              "      <td>5.52</td>\n",
              "      <td>1.0</td>\n",
              "      <td>0.0</td>\n",
              "      <td>0.0</td>\n",
              "      <td>0.0</td>\n",
              "      <td>1.0</td>\n",
              "    </tr>\n",
              "    <tr>\n",
              "      <th>1</th>\n",
              "      <td>1</td>\n",
              "      <td>112</td>\n",
              "      <td>20</td>\n",
              "      <td>3</td>\n",
              "      <td>6</td>\n",
              "      <td>0</td>\n",
              "      <td>0</td>\n",
              "      <td>0</td>\n",
              "      <td>5.52</td>\n",
              "      <td>1.0</td>\n",
              "      <td>0.0</td>\n",
              "      <td>0.0</td>\n",
              "      <td>0.0</td>\n",
              "      <td>1.0</td>\n",
              "    </tr>\n",
              "    <tr>\n",
              "      <th>2</th>\n",
              "      <td>2</td>\n",
              "      <td>243</td>\n",
              "      <td>22</td>\n",
              "      <td>17</td>\n",
              "      <td>3</td>\n",
              "      <td>1</td>\n",
              "      <td>1</td>\n",
              "      <td>0</td>\n",
              "      <td>5.52</td>\n",
              "      <td>1.0</td>\n",
              "      <td>0.0</td>\n",
              "      <td>0.0</td>\n",
              "      <td>0.0</td>\n",
              "      <td>1.0</td>\n",
              "    </tr>\n",
              "    <tr>\n",
              "      <th>3</th>\n",
              "      <td>1</td>\n",
              "      <td>96</td>\n",
              "      <td>31</td>\n",
              "      <td>4</td>\n",
              "      <td>6</td>\n",
              "      <td>0</td>\n",
              "      <td>0</td>\n",
              "      <td>1</td>\n",
              "      <td>5.52</td>\n",
              "      <td>1.0</td>\n",
              "      <td>0.0</td>\n",
              "      <td>0.0</td>\n",
              "      <td>0.0</td>\n",
              "      <td>1.0</td>\n",
              "    </tr>\n",
              "    <tr>\n",
              "      <th>4</th>\n",
              "      <td>2</td>\n",
              "      <td>68</td>\n",
              "      <td>22</td>\n",
              "      <td>15</td>\n",
              "      <td>3</td>\n",
              "      <td>1</td>\n",
              "      <td>0</td>\n",
              "      <td>1</td>\n",
              "      <td>5.52</td>\n",
              "      <td>1.0</td>\n",
              "      <td>0.0</td>\n",
              "      <td>0.0</td>\n",
              "      <td>0.0</td>\n",
              "      <td>1.0</td>\n",
              "    </tr>\n",
              "    <tr>\n",
              "      <th>...</th>\n",
              "      <td>...</td>\n",
              "      <td>...</td>\n",
              "      <td>...</td>\n",
              "      <td>...</td>\n",
              "      <td>...</td>\n",
              "      <td>...</td>\n",
              "      <td>...</td>\n",
              "      <td>...</td>\n",
              "      <td>...</td>\n",
              "      <td>...</td>\n",
              "      <td>...</td>\n",
              "      <td>...</td>\n",
              "      <td>...</td>\n",
              "      <td>...</td>\n",
              "    </tr>\n",
              "    <tr>\n",
              "      <th>49977</th>\n",
              "      <td>2</td>\n",
              "      <td>27</td>\n",
              "      <td>6</td>\n",
              "      <td>9</td>\n",
              "      <td>6</td>\n",
              "      <td>1</td>\n",
              "      <td>0</td>\n",
              "      <td>1</td>\n",
              "      <td>5.62</td>\n",
              "      <td>1.0</td>\n",
              "      <td>0.0</td>\n",
              "      <td>0.0</td>\n",
              "      <td>0.0</td>\n",
              "      <td>1.0</td>\n",
              "    </tr>\n",
              "    <tr>\n",
              "      <th>49978</th>\n",
              "      <td>1</td>\n",
              "      <td>111</td>\n",
              "      <td>6</td>\n",
              "      <td>4</td>\n",
              "      <td>7</td>\n",
              "      <td>0</td>\n",
              "      <td>0</td>\n",
              "      <td>0</td>\n",
              "      <td>5.62</td>\n",
              "      <td>1.0</td>\n",
              "      <td>0.0</td>\n",
              "      <td>0.0</td>\n",
              "      <td>0.0</td>\n",
              "      <td>1.0</td>\n",
              "    </tr>\n",
              "    <tr>\n",
              "      <th>49979</th>\n",
              "      <td>1</td>\n",
              "      <td>24</td>\n",
              "      <td>6</td>\n",
              "      <td>22</td>\n",
              "      <td>6</td>\n",
              "      <td>0</td>\n",
              "      <td>0</td>\n",
              "      <td>1</td>\n",
              "      <td>5.62</td>\n",
              "      <td>1.0</td>\n",
              "      <td>0.0</td>\n",
              "      <td>0.0</td>\n",
              "      <td>0.0</td>\n",
              "      <td>1.0</td>\n",
              "    </tr>\n",
              "    <tr>\n",
              "      <th>49980</th>\n",
              "      <td>1</td>\n",
              "      <td>15</td>\n",
              "      <td>6</td>\n",
              "      <td>11</td>\n",
              "      <td>1</td>\n",
              "      <td>1</td>\n",
              "      <td>0</td>\n",
              "      <td>1</td>\n",
              "      <td>5.62</td>\n",
              "      <td>1.0</td>\n",
              "      <td>0.0</td>\n",
              "      <td>0.0</td>\n",
              "      <td>0.0</td>\n",
              "      <td>1.0</td>\n",
              "    </tr>\n",
              "    <tr>\n",
              "      <th>49981</th>\n",
              "      <td>1</td>\n",
              "      <td>19</td>\n",
              "      <td>6</td>\n",
              "      <td>10</td>\n",
              "      <td>4</td>\n",
              "      <td>0</td>\n",
              "      <td>1</td>\n",
              "      <td>0</td>\n",
              "      <td>5.62</td>\n",
              "      <td>1.0</td>\n",
              "      <td>0.0</td>\n",
              "      <td>0.0</td>\n",
              "      <td>0.0</td>\n",
              "      <td>1.0</td>\n",
              "    </tr>\n",
              "  </tbody>\n",
              "</table>\n",
              "<p>49982 rows × 14 columns</p>\n",
              "</div>\n",
              "      <button class=\"colab-df-convert\" onclick=\"convertToInteractive('df-d4f08f57-95db-4616-884e-5f5b7ba8ef8d')\"\n",
              "              title=\"Convert this dataframe to an interactive table.\"\n",
              "              style=\"display:none;\">\n",
              "        \n",
              "  <svg xmlns=\"http://www.w3.org/2000/svg\" height=\"24px\"viewBox=\"0 0 24 24\"\n",
              "       width=\"24px\">\n",
              "    <path d=\"M0 0h24v24H0V0z\" fill=\"none\"/>\n",
              "    <path d=\"M18.56 5.44l.94 2.06.94-2.06 2.06-.94-2.06-.94-.94-2.06-.94 2.06-2.06.94zm-11 1L8.5 8.5l.94-2.06 2.06-.94-2.06-.94L8.5 2.5l-.94 2.06-2.06.94zm10 10l.94 2.06.94-2.06 2.06-.94-2.06-.94-.94-2.06-.94 2.06-2.06.94z\"/><path d=\"M17.41 7.96l-1.37-1.37c-.4-.4-.92-.59-1.43-.59-.52 0-1.04.2-1.43.59L10.3 9.45l-7.72 7.72c-.78.78-.78 2.05 0 2.83L4 21.41c.39.39.9.59 1.41.59.51 0 1.02-.2 1.41-.59l7.78-7.78 2.81-2.81c.8-.78.8-2.07 0-2.86zM5.41 20L4 18.59l7.72-7.72 1.47 1.35L5.41 20z\"/>\n",
              "  </svg>\n",
              "      </button>\n",
              "      \n",
              "  <style>\n",
              "    .colab-df-container {\n",
              "      display:flex;\n",
              "      flex-wrap:wrap;\n",
              "      gap: 12px;\n",
              "    }\n",
              "\n",
              "    .colab-df-convert {\n",
              "      background-color: #E8F0FE;\n",
              "      border: none;\n",
              "      border-radius: 50%;\n",
              "      cursor: pointer;\n",
              "      display: none;\n",
              "      fill: #1967D2;\n",
              "      height: 32px;\n",
              "      padding: 0 0 0 0;\n",
              "      width: 32px;\n",
              "    }\n",
              "\n",
              "    .colab-df-convert:hover {\n",
              "      background-color: #E2EBFA;\n",
              "      box-shadow: 0px 1px 2px rgba(60, 64, 67, 0.3), 0px 1px 3px 1px rgba(60, 64, 67, 0.15);\n",
              "      fill: #174EA6;\n",
              "    }\n",
              "\n",
              "    [theme=dark] .colab-df-convert {\n",
              "      background-color: #3B4455;\n",
              "      fill: #D2E3FC;\n",
              "    }\n",
              "\n",
              "    [theme=dark] .colab-df-convert:hover {\n",
              "      background-color: #434B5C;\n",
              "      box-shadow: 0px 1px 3px 1px rgba(0, 0, 0, 0.15);\n",
              "      filter: drop-shadow(0px 1px 2px rgba(0, 0, 0, 0.3));\n",
              "      fill: #FFFFFF;\n",
              "    }\n",
              "  </style>\n",
              "\n",
              "      <script>\n",
              "        const buttonEl =\n",
              "          document.querySelector('#df-d4f08f57-95db-4616-884e-5f5b7ba8ef8d button.colab-df-convert');\n",
              "        buttonEl.style.display =\n",
              "          google.colab.kernel.accessAllowed ? 'block' : 'none';\n",
              "\n",
              "        async function convertToInteractive(key) {\n",
              "          const element = document.querySelector('#df-d4f08f57-95db-4616-884e-5f5b7ba8ef8d');\n",
              "          const dataTable =\n",
              "            await google.colab.kernel.invokeFunction('convertToInteractive',\n",
              "                                                     [key], {});\n",
              "          if (!dataTable) return;\n",
              "\n",
              "          const docLinkHtml = 'Like what you see? Visit the ' +\n",
              "            '<a target=\"_blank\" href=https://colab.research.google.com/notebooks/data_table.ipynb>data table notebook</a>'\n",
              "            + ' to learn more about interactive tables.';\n",
              "          element.innerHTML = '';\n",
              "          dataTable['output_type'] = 'display_data';\n",
              "          await google.colab.output.renderOutput(dataTable, element);\n",
              "          const docLink = document.createElement('div');\n",
              "          docLink.innerHTML = docLinkHtml;\n",
              "          element.appendChild(docLink);\n",
              "        }\n",
              "      </script>\n",
              "    </div>\n",
              "  </div>\n",
              "  "
            ]
          },
          "metadata": {},
          "execution_count": 153
        }
      ]
    },
    {
      "cell_type": "markdown",
      "source": [
        "### **Normalizaing the values**"
      ],
      "metadata": {
        "id": "oWZZv-0e6_9s"
      }
    },
    {
      "cell_type": "code",
      "source": [
        "from sklearn.preprocessing import StandardScaler\n",
        "#create a standard scaler object\n",
        "scaler = StandardScaler()\n",
        "#fit and transform the data\n",
        "scaled_df = scaler.fit_transform(df_final)"
      ],
      "metadata": {
        "id": "TFkwhY_m66xL"
      },
      "execution_count": 154,
      "outputs": []
    },
    {
      "cell_type": "code",
      "source": [
        "#create a dataframe of scaled data\n",
        "scaled_df = pd.DataFrame(scaled_df, columns = df_final.columns)"
      ],
      "metadata": {
        "id": "P-APC4n-7bYZ"
      },
      "execution_count": 155,
      "outputs": []
    },
    {
      "cell_type": "code",
      "source": [
        "# add the labels back to the dataframe\n",
        "scaled_df['label']  = label"
      ],
      "metadata": {
        "id": "l7_NhVPi7g6d"
      },
      "execution_count": 156,
      "outputs": []
    },
    {
      "cell_type": "code",
      "source": [
        "scaled_df"
      ],
      "metadata": {
        "colab": {
          "base_uri": "https://localhost:8080/",
          "height": 487
        },
        "id": "jaF8iHq-7hXA",
        "outputId": "0fa5830e-8189-4bc7-dedd-455d61bd1b12"
      },
      "execution_count": 157,
      "outputs": [
        {
          "output_type": "execute_result",
          "data": {
            "text/plain": [
              "       num_passengers  purchase_lead  length_of_stay  flight_hour  flight_day  \\\n",
              "0            0.400769       1.971093       -0.119401    -0.381588    1.096876   \n",
              "1           -0.579424       0.302987       -0.089895    -1.120618    1.096876   \n",
              "2            0.400769       1.759799       -0.030885     1.465988   -0.408618   \n",
              "3           -0.579424       0.125056        0.234662    -0.935861    1.096876   \n",
              "4            0.400769      -0.186323       -0.030885     1.096473   -0.408618   \n",
              "...               ...            ...             ...          ...         ...   \n",
              "49977        0.400769      -0.642272       -0.502969    -0.012073    1.096876   \n",
              "49978       -0.579424       0.291867       -0.502969    -0.935861    1.598707   \n",
              "49979       -0.579424      -0.675634       -0.502969     2.389776    1.096876   \n",
              "49980       -0.579424      -0.775721       -0.502969     0.357443   -1.412280   \n",
              "49981       -0.579424      -0.731238       -0.502969     0.172685    0.093214   \n",
              "\n",
              "       wants_extra_baggage  wants_preferred_seat  wants_in_flight_meals  \\\n",
              "0                 0.703587             -0.650054              -0.863557   \n",
              "1                -1.421288             -0.650054              -0.863557   \n",
              "2                 0.703587              1.538334              -0.863557   \n",
              "3                -1.421288             -0.650054               1.158002   \n",
              "4                 0.703587             -0.650054               1.158002   \n",
              "...                    ...                   ...                    ...   \n",
              "49977             0.703587             -0.650054               1.158002   \n",
              "49978            -1.421288             -0.650054              -0.863557   \n",
              "49979            -1.421288             -0.650054               1.158002   \n",
              "49980             0.703587             -0.650054               1.158002   \n",
              "49981            -1.421288              1.538334              -0.863557   \n",
              "\n",
              "       flight_duration  Internet    Mobile  RoundTRip  OneWayTrip  CircleTrip  \\\n",
              "0            -1.174049  0.355786 -0.355786  -0.048231   -0.088336    0.100826   \n",
              "1            -1.174049  0.355786 -0.355786  -0.048231   -0.088336    0.100826   \n",
              "2            -1.174049  0.355786 -0.355786  -0.048231   -0.088336    0.100826   \n",
              "3            -1.174049  0.355786 -0.355786  -0.048231   -0.088336    0.100826   \n",
              "4            -1.174049  0.355786 -0.355786  -0.048231   -0.088336    0.100826   \n",
              "...                ...       ...       ...        ...         ...         ...   \n",
              "49977        -1.107240  0.355786 -0.355786  -0.048231   -0.088336    0.100826   \n",
              "49978        -1.107240  0.355786 -0.355786  -0.048231   -0.088336    0.100826   \n",
              "49979        -1.107240  0.355786 -0.355786  -0.048231   -0.088336    0.100826   \n",
              "49980        -1.107240  0.355786 -0.355786  -0.048231   -0.088336    0.100826   \n",
              "49981        -1.107240  0.355786 -0.355786  -0.048231   -0.088336    0.100826   \n",
              "\n",
              "       label  \n",
              "0          0  \n",
              "1          0  \n",
              "2          0  \n",
              "3          0  \n",
              "4          0  \n",
              "...      ...  \n",
              "49977      0  \n",
              "49978      0  \n",
              "49979      0  \n",
              "49980      0  \n",
              "49981      0  \n",
              "\n",
              "[49982 rows x 15 columns]"
            ],
            "text/html": [
              "\n",
              "  <div id=\"df-b086ab3d-c716-4426-a6c0-938073d33eae\">\n",
              "    <div class=\"colab-df-container\">\n",
              "      <div>\n",
              "<style scoped>\n",
              "    .dataframe tbody tr th:only-of-type {\n",
              "        vertical-align: middle;\n",
              "    }\n",
              "\n",
              "    .dataframe tbody tr th {\n",
              "        vertical-align: top;\n",
              "    }\n",
              "\n",
              "    .dataframe thead th {\n",
              "        text-align: right;\n",
              "    }\n",
              "</style>\n",
              "<table border=\"1\" class=\"dataframe\">\n",
              "  <thead>\n",
              "    <tr style=\"text-align: right;\">\n",
              "      <th></th>\n",
              "      <th>num_passengers</th>\n",
              "      <th>purchase_lead</th>\n",
              "      <th>length_of_stay</th>\n",
              "      <th>flight_hour</th>\n",
              "      <th>flight_day</th>\n",
              "      <th>wants_extra_baggage</th>\n",
              "      <th>wants_preferred_seat</th>\n",
              "      <th>wants_in_flight_meals</th>\n",
              "      <th>flight_duration</th>\n",
              "      <th>Internet</th>\n",
              "      <th>Mobile</th>\n",
              "      <th>RoundTRip</th>\n",
              "      <th>OneWayTrip</th>\n",
              "      <th>CircleTrip</th>\n",
              "      <th>label</th>\n",
              "    </tr>\n",
              "  </thead>\n",
              "  <tbody>\n",
              "    <tr>\n",
              "      <th>0</th>\n",
              "      <td>0.400769</td>\n",
              "      <td>1.971093</td>\n",
              "      <td>-0.119401</td>\n",
              "      <td>-0.381588</td>\n",
              "      <td>1.096876</td>\n",
              "      <td>0.703587</td>\n",
              "      <td>-0.650054</td>\n",
              "      <td>-0.863557</td>\n",
              "      <td>-1.174049</td>\n",
              "      <td>0.355786</td>\n",
              "      <td>-0.355786</td>\n",
              "      <td>-0.048231</td>\n",
              "      <td>-0.088336</td>\n",
              "      <td>0.100826</td>\n",
              "      <td>0</td>\n",
              "    </tr>\n",
              "    <tr>\n",
              "      <th>1</th>\n",
              "      <td>-0.579424</td>\n",
              "      <td>0.302987</td>\n",
              "      <td>-0.089895</td>\n",
              "      <td>-1.120618</td>\n",
              "      <td>1.096876</td>\n",
              "      <td>-1.421288</td>\n",
              "      <td>-0.650054</td>\n",
              "      <td>-0.863557</td>\n",
              "      <td>-1.174049</td>\n",
              "      <td>0.355786</td>\n",
              "      <td>-0.355786</td>\n",
              "      <td>-0.048231</td>\n",
              "      <td>-0.088336</td>\n",
              "      <td>0.100826</td>\n",
              "      <td>0</td>\n",
              "    </tr>\n",
              "    <tr>\n",
              "      <th>2</th>\n",
              "      <td>0.400769</td>\n",
              "      <td>1.759799</td>\n",
              "      <td>-0.030885</td>\n",
              "      <td>1.465988</td>\n",
              "      <td>-0.408618</td>\n",
              "      <td>0.703587</td>\n",
              "      <td>1.538334</td>\n",
              "      <td>-0.863557</td>\n",
              "      <td>-1.174049</td>\n",
              "      <td>0.355786</td>\n",
              "      <td>-0.355786</td>\n",
              "      <td>-0.048231</td>\n",
              "      <td>-0.088336</td>\n",
              "      <td>0.100826</td>\n",
              "      <td>0</td>\n",
              "    </tr>\n",
              "    <tr>\n",
              "      <th>3</th>\n",
              "      <td>-0.579424</td>\n",
              "      <td>0.125056</td>\n",
              "      <td>0.234662</td>\n",
              "      <td>-0.935861</td>\n",
              "      <td>1.096876</td>\n",
              "      <td>-1.421288</td>\n",
              "      <td>-0.650054</td>\n",
              "      <td>1.158002</td>\n",
              "      <td>-1.174049</td>\n",
              "      <td>0.355786</td>\n",
              "      <td>-0.355786</td>\n",
              "      <td>-0.048231</td>\n",
              "      <td>-0.088336</td>\n",
              "      <td>0.100826</td>\n",
              "      <td>0</td>\n",
              "    </tr>\n",
              "    <tr>\n",
              "      <th>4</th>\n",
              "      <td>0.400769</td>\n",
              "      <td>-0.186323</td>\n",
              "      <td>-0.030885</td>\n",
              "      <td>1.096473</td>\n",
              "      <td>-0.408618</td>\n",
              "      <td>0.703587</td>\n",
              "      <td>-0.650054</td>\n",
              "      <td>1.158002</td>\n",
              "      <td>-1.174049</td>\n",
              "      <td>0.355786</td>\n",
              "      <td>-0.355786</td>\n",
              "      <td>-0.048231</td>\n",
              "      <td>-0.088336</td>\n",
              "      <td>0.100826</td>\n",
              "      <td>0</td>\n",
              "    </tr>\n",
              "    <tr>\n",
              "      <th>...</th>\n",
              "      <td>...</td>\n",
              "      <td>...</td>\n",
              "      <td>...</td>\n",
              "      <td>...</td>\n",
              "      <td>...</td>\n",
              "      <td>...</td>\n",
              "      <td>...</td>\n",
              "      <td>...</td>\n",
              "      <td>...</td>\n",
              "      <td>...</td>\n",
              "      <td>...</td>\n",
              "      <td>...</td>\n",
              "      <td>...</td>\n",
              "      <td>...</td>\n",
              "      <td>...</td>\n",
              "    </tr>\n",
              "    <tr>\n",
              "      <th>49977</th>\n",
              "      <td>0.400769</td>\n",
              "      <td>-0.642272</td>\n",
              "      <td>-0.502969</td>\n",
              "      <td>-0.012073</td>\n",
              "      <td>1.096876</td>\n",
              "      <td>0.703587</td>\n",
              "      <td>-0.650054</td>\n",
              "      <td>1.158002</td>\n",
              "      <td>-1.107240</td>\n",
              "      <td>0.355786</td>\n",
              "      <td>-0.355786</td>\n",
              "      <td>-0.048231</td>\n",
              "      <td>-0.088336</td>\n",
              "      <td>0.100826</td>\n",
              "      <td>0</td>\n",
              "    </tr>\n",
              "    <tr>\n",
              "      <th>49978</th>\n",
              "      <td>-0.579424</td>\n",
              "      <td>0.291867</td>\n",
              "      <td>-0.502969</td>\n",
              "      <td>-0.935861</td>\n",
              "      <td>1.598707</td>\n",
              "      <td>-1.421288</td>\n",
              "      <td>-0.650054</td>\n",
              "      <td>-0.863557</td>\n",
              "      <td>-1.107240</td>\n",
              "      <td>0.355786</td>\n",
              "      <td>-0.355786</td>\n",
              "      <td>-0.048231</td>\n",
              "      <td>-0.088336</td>\n",
              "      <td>0.100826</td>\n",
              "      <td>0</td>\n",
              "    </tr>\n",
              "    <tr>\n",
              "      <th>49979</th>\n",
              "      <td>-0.579424</td>\n",
              "      <td>-0.675634</td>\n",
              "      <td>-0.502969</td>\n",
              "      <td>2.389776</td>\n",
              "      <td>1.096876</td>\n",
              "      <td>-1.421288</td>\n",
              "      <td>-0.650054</td>\n",
              "      <td>1.158002</td>\n",
              "      <td>-1.107240</td>\n",
              "      <td>0.355786</td>\n",
              "      <td>-0.355786</td>\n",
              "      <td>-0.048231</td>\n",
              "      <td>-0.088336</td>\n",
              "      <td>0.100826</td>\n",
              "      <td>0</td>\n",
              "    </tr>\n",
              "    <tr>\n",
              "      <th>49980</th>\n",
              "      <td>-0.579424</td>\n",
              "      <td>-0.775721</td>\n",
              "      <td>-0.502969</td>\n",
              "      <td>0.357443</td>\n",
              "      <td>-1.412280</td>\n",
              "      <td>0.703587</td>\n",
              "      <td>-0.650054</td>\n",
              "      <td>1.158002</td>\n",
              "      <td>-1.107240</td>\n",
              "      <td>0.355786</td>\n",
              "      <td>-0.355786</td>\n",
              "      <td>-0.048231</td>\n",
              "      <td>-0.088336</td>\n",
              "      <td>0.100826</td>\n",
              "      <td>0</td>\n",
              "    </tr>\n",
              "    <tr>\n",
              "      <th>49981</th>\n",
              "      <td>-0.579424</td>\n",
              "      <td>-0.731238</td>\n",
              "      <td>-0.502969</td>\n",
              "      <td>0.172685</td>\n",
              "      <td>0.093214</td>\n",
              "      <td>-1.421288</td>\n",
              "      <td>1.538334</td>\n",
              "      <td>-0.863557</td>\n",
              "      <td>-1.107240</td>\n",
              "      <td>0.355786</td>\n",
              "      <td>-0.355786</td>\n",
              "      <td>-0.048231</td>\n",
              "      <td>-0.088336</td>\n",
              "      <td>0.100826</td>\n",
              "      <td>0</td>\n",
              "    </tr>\n",
              "  </tbody>\n",
              "</table>\n",
              "<p>49982 rows × 15 columns</p>\n",
              "</div>\n",
              "      <button class=\"colab-df-convert\" onclick=\"convertToInteractive('df-b086ab3d-c716-4426-a6c0-938073d33eae')\"\n",
              "              title=\"Convert this dataframe to an interactive table.\"\n",
              "              style=\"display:none;\">\n",
              "        \n",
              "  <svg xmlns=\"http://www.w3.org/2000/svg\" height=\"24px\"viewBox=\"0 0 24 24\"\n",
              "       width=\"24px\">\n",
              "    <path d=\"M0 0h24v24H0V0z\" fill=\"none\"/>\n",
              "    <path d=\"M18.56 5.44l.94 2.06.94-2.06 2.06-.94-2.06-.94-.94-2.06-.94 2.06-2.06.94zm-11 1L8.5 8.5l.94-2.06 2.06-.94-2.06-.94L8.5 2.5l-.94 2.06-2.06.94zm10 10l.94 2.06.94-2.06 2.06-.94-2.06-.94-.94-2.06-.94 2.06-2.06.94z\"/><path d=\"M17.41 7.96l-1.37-1.37c-.4-.4-.92-.59-1.43-.59-.52 0-1.04.2-1.43.59L10.3 9.45l-7.72 7.72c-.78.78-.78 2.05 0 2.83L4 21.41c.39.39.9.59 1.41.59.51 0 1.02-.2 1.41-.59l7.78-7.78 2.81-2.81c.8-.78.8-2.07 0-2.86zM5.41 20L4 18.59l7.72-7.72 1.47 1.35L5.41 20z\"/>\n",
              "  </svg>\n",
              "      </button>\n",
              "      \n",
              "  <style>\n",
              "    .colab-df-container {\n",
              "      display:flex;\n",
              "      flex-wrap:wrap;\n",
              "      gap: 12px;\n",
              "    }\n",
              "\n",
              "    .colab-df-convert {\n",
              "      background-color: #E8F0FE;\n",
              "      border: none;\n",
              "      border-radius: 50%;\n",
              "      cursor: pointer;\n",
              "      display: none;\n",
              "      fill: #1967D2;\n",
              "      height: 32px;\n",
              "      padding: 0 0 0 0;\n",
              "      width: 32px;\n",
              "    }\n",
              "\n",
              "    .colab-df-convert:hover {\n",
              "      background-color: #E2EBFA;\n",
              "      box-shadow: 0px 1px 2px rgba(60, 64, 67, 0.3), 0px 1px 3px 1px rgba(60, 64, 67, 0.15);\n",
              "      fill: #174EA6;\n",
              "    }\n",
              "\n",
              "    [theme=dark] .colab-df-convert {\n",
              "      background-color: #3B4455;\n",
              "      fill: #D2E3FC;\n",
              "    }\n",
              "\n",
              "    [theme=dark] .colab-df-convert:hover {\n",
              "      background-color: #434B5C;\n",
              "      box-shadow: 0px 1px 3px 1px rgba(0, 0, 0, 0.15);\n",
              "      filter: drop-shadow(0px 1px 2px rgba(0, 0, 0, 0.3));\n",
              "      fill: #FFFFFF;\n",
              "    }\n",
              "  </style>\n",
              "\n",
              "      <script>\n",
              "        const buttonEl =\n",
              "          document.querySelector('#df-b086ab3d-c716-4426-a6c0-938073d33eae button.colab-df-convert');\n",
              "        buttonEl.style.display =\n",
              "          google.colab.kernel.accessAllowed ? 'block' : 'none';\n",
              "\n",
              "        async function convertToInteractive(key) {\n",
              "          const element = document.querySelector('#df-b086ab3d-c716-4426-a6c0-938073d33eae');\n",
              "          const dataTable =\n",
              "            await google.colab.kernel.invokeFunction('convertToInteractive',\n",
              "                                                     [key], {});\n",
              "          if (!dataTable) return;\n",
              "\n",
              "          const docLinkHtml = 'Like what you see? Visit the ' +\n",
              "            '<a target=\"_blank\" href=https://colab.research.google.com/notebooks/data_table.ipynb>data table notebook</a>'\n",
              "            + ' to learn more about interactive tables.';\n",
              "          element.innerHTML = '';\n",
              "          dataTable['output_type'] = 'display_data';\n",
              "          await google.colab.output.renderOutput(dataTable, element);\n",
              "          const docLink = document.createElement('div');\n",
              "          docLink.innerHTML = docLinkHtml;\n",
              "          element.appendChild(docLink);\n",
              "        }\n",
              "      </script>\n",
              "    </div>\n",
              "  </div>\n",
              "  "
            ]
          },
          "metadata": {},
          "execution_count": 157
        }
      ]
    },
    {
      "cell_type": "markdown",
      "source": [
        "### **Correlation matrix**"
      ],
      "metadata": {
        "id": "SgFwFyon77t6"
      }
    },
    {
      "cell_type": "code",
      "source": [
        "corr = scaled_df.corr()\n",
        "plt.figure(figsize=(8,5))\n",
        "#plot the heatmap\n",
        "sns.heatmap(corr)"
      ],
      "metadata": {
        "colab": {
          "base_uri": "https://localhost:8080/",
          "height": 591
        },
        "id": "lUWjVvkZ7vjs",
        "outputId": "acdad194-3a03-470d-8763-4827829d1e5e"
      },
      "execution_count": 158,
      "outputs": [
        {
          "output_type": "execute_result",
          "data": {
            "text/plain": [
              "<Axes: >"
            ]
          },
          "metadata": {},
          "execution_count": 158
        },
        {
          "output_type": "display_data",
          "data": {
            "text/plain": [
              "<Figure size 800x500 with 2 Axes>"
            ],
            "image/png": "[encoded data removed]"
          },
          "metadata": {}
        }
      ]
    },
    {
      "cell_type": "markdown",
      "source": [
        "Now let's split the dataset into training and test sets."
      ],
      "metadata": {
        "id": "pB4ZBRby8WEp"
      }
    },
    {
      "cell_type": "code",
      "source": [
        "from sklearn.model_selection import train_test_split\n",
        "X = scaled_df.iloc[:,:-1]\n",
        "y = scaled_df['label']\n",
        "X_train, X_test, y_train, y_test = train_test_split(X.to_numpy(), y.to_numpy(), test_size=0.20, random_state=42)"
      ],
      "metadata": {
        "id": "bUgG5Ynm8LiA"
      },
      "execution_count": 159,
      "outputs": []
    },
    {
      "cell_type": "code",
      "source": [
        "from sklearn.ensemble import RandomForestClassifier\n",
        "from sklearn.linear_model import LogisticRegression\n",
        "from sklearn.metrics import accuracy_score\n",
        "from sklearn.metrics import f1_score\n",
        "from sklearn.metrics import precision_score\n",
        "from sklearn.metrics import recall_score\n",
        "from sklearn.inspection import permutation_importance\n",
        "from yellowbrick.classifier import ConfusionMatrix\n",
        "from sklearn.model_selection import GridSearchCV,  RepeatedStratifiedKFold"
      ],
      "metadata": {
        "id": "SR9geAyK8y1i"
      },
      "execution_count": 160,
      "outputs": []
    },
    {
      "cell_type": "code",
      "source": [
        "def model_fit_predict(model, X, y, X_predict):\n",
        "    model.fit(X, y)\n",
        "    return model.predict(X_predict)\n",
        "\n",
        "def acc_score(y_true, y_pred):\n",
        "    return accuracy_score(y_true, y_pred)\n",
        "\n",
        "def pre_score(y_true, y_pred):\n",
        "    return precision_score(y_true, y_pred)\n",
        "\n",
        "def f_score(y_true, y_pred):\n",
        "    return f1_score(y_true, y_pred)\n",
        "\n",
        "'''\n",
        "Create functions to fit and predict whether a customer will complete a booking.\n",
        "Also functions with metrics to evaluate model prediction.\n",
        "\n",
        "\n",
        "'''"
      ],
      "metadata": {
        "colab": {
          "base_uri": "https://localhost:8080/",
          "height": 36
        },
        "id": "cV2IyiQz81gc",
        "outputId": "e6d95b2f-a4fd-4def-f3ba-657771ba6280"
      },
      "execution_count": 161,
      "outputs": [
        {
          "output_type": "execute_result",
          "data": {
            "text/plain": [
              "'\\nCreate functions to fit and predict whether a customer will complete a booking.\\nAlso functions with metrics to evaluate model prediction.\\n\\n\\n'"
            ],
            "application/vnd.google.colaboratory.intrinsic+json": {
              "type": "string"
            }
          },
          "metadata": {},
          "execution_count": 161
        }
      ]
    },
    {
      "cell_type": "markdown",
      "source": [
        "### **RANDOM FOREST CLASSIFIER**"
      ],
      "metadata": {
        "id": "cOtZ1AKl9h3s"
      }
    },
    {
      "cell_type": "code",
      "source": [
        "#create an instance of the classifier and fit the training data\n",
        "cl_ranfor = RandomForestClassifier(max_depth =50 , min_samples_split=5,random_state=0)"
      ],
      "metadata": {
        "id": "Lx0gL2UL9nZT"
      },
      "execution_count": 162,
      "outputs": []
    },
    {
      "cell_type": "code",
      "source": [
        "#Checking the training accuracy\n",
        "y_pred_train = model_fit_predict(cl_ranfor, X_train, y_train, X_train)\n",
        "set(y_pred_train)\n",
        "\n",
        "#f1 score for training data\n",
        "f1 = round(f1_score(y_train, y_pred_train),2) \n",
        "\n",
        "#accuracy score for training data\n",
        "acc = round(accuracy_score(y_train, y_pred_train),2) \n",
        "\n",
        "#precision score for training data\n",
        "pre = round(precision_score(y_train, y_pred_train),2) \n",
        "\n",
        "print(f\"Accuracy, precision and f1-score for training data are {acc}, {pre} and {f1} respectively\")"
      ],
      "metadata": {
        "colab": {
          "base_uri": "https://localhost:8080/"
        },
        "id": "5GRMLfVb9ywT",
        "outputId": "b987484a-7ee6-495b-ea2b-f24530327096"
      },
      "execution_count": 163,
      "outputs": [
        {
          "output_type": "stream",
          "name": "stdout",
          "text": [
            "Accuracy, precision and f1-score for training data are 0.93, 1.0 and 0.72 respectively\n"
          ]
        }
      ]
    },
    {
      "cell_type": "code",
      "source": [
        "#CONFUSION MATRIX\n",
        "cm = ConfusionMatrix(cl_ranfor, classes=[0,1])\n",
        "cm.fit(X_train, y_train)\n",
        "cm.score(X_train, y_train)"
      ],
      "metadata": {
        "colab": {
          "base_uri": "https://localhost:8080/",
          "height": 496
        },
        "id": "v3tirlSg-BdS",
        "outputId": "7bc615a9-789a-48e1-d8f2-286a3cce05d7"
      },
      "execution_count": 164,
      "outputs": [
        {
          "output_type": "execute_result",
          "data": {
            "text/plain": [
              "0.9341002876078529"
            ]
          },
          "metadata": {},
          "execution_count": 164
        },
        {
          "output_type": "display_data",
          "data": {
            "text/plain": [
              "<Figure size 800x550 with 1 Axes>"
            ],
            "image/png": "[encoded data removed]"
          },
          "metadata": {}
        }
      ]
    },
    {
      "cell_type": "code",
      "source": [
        "#checking test accuracy\n",
        "#create an instance of the classifier and fit the training data\n",
        "cl_ranfor = RandomForestClassifier(max_depth =50 , min_samples_split=5,random_state=0)\n",
        "\n",
        "y_pred_test = model_fit_predict(cl_ranfor, X_train, y_train, X_test)\n",
        "\n",
        "#f1 score for training data\n",
        "f1 = round(f1_score(y_test, y_pred_test),2) \n",
        "\n",
        "#accuracy score for training data\n",
        "acc = round(accuracy_score(y_test, y_pred_test),2) \n",
        "\n",
        "#precision score for training data\n",
        "pre = round(precision_score(y_test, y_pred_test),2) \n",
        "\n",
        "print(f\"Accuracy, precision and f1-score for training data are {acc}, {pre} and {f1} respectively\")"
      ],
      "metadata": {
        "colab": {
          "base_uri": "https://localhost:8080/"
        },
        "id": "FnboL8Xm-pfu",
        "outputId": "1cb8df98-527f-4f43-9299-4871cee5220a"
      },
      "execution_count": 165,
      "outputs": [
        {
          "output_type": "stream",
          "name": "stdout",
          "text": [
            "Accuracy, precision and f1-score for training data are 0.86, 0.56 and 0.07 respectively\n"
          ]
        }
      ]
    },
    {
      "cell_type": "code",
      "source": [
        "#CONFUSION MATRIX\n",
        "cm = ConfusionMatrix(cl_ranfor, classes=[0,1])\n",
        "cm.fit(X_train, y_train)\n",
        "cm.score(X_test, y_test)"
      ],
      "metadata": {
        "colab": {
          "base_uri": "https://localhost:8080/",
          "height": 496
        },
        "id": "kJ5d73X1-y-K",
        "outputId": "5a266a0e-1010-4878-c7a3-ad75881d4682"
      },
      "execution_count": 166,
      "outputs": [
        {
          "output_type": "execute_result",
          "data": {
            "text/plain": [
              "0.8554566369910973"
            ]
          },
          "metadata": {},
          "execution_count": 166
        },
        {
          "output_type": "display_data",
          "data": {
            "text/plain": [
              "<Figure size 800x550 with 1 Axes>"
            ],
            "image/png": "[encoded data removed]"
          },
          "metadata": {}
        }
      ]
    },
    {
      "cell_type": "code",
      "source": [
        "plt.figure(figsize=(15,5))\n",
        "sorted_idx = cl_ranfor.feature_importances_.argsort()\n",
        "plt.barh(scaled_df.iloc[:,:-1].columns[sorted_idx], cl_ranfor.feature_importances_[sorted_idx])\n",
        "plt.xlabel(\"Random Forest Feature Importance\")"
      ],
      "metadata": {
        "colab": {
          "base_uri": "https://localhost:8080/",
          "height": 482
        },
        "id": "kFT1R9fkAAay",
        "outputId": "cf9aa767-0254-47d3-e111-6ffe4d16fec6"
      },
      "execution_count": 167,
      "outputs": [
        {
          "output_type": "execute_result",
          "data": {
            "text/plain": [
              "Text(0.5, 0, 'Random Forest Feature Importance')"
            ]
          },
          "metadata": {},
          "execution_count": 167
        },
        {
          "output_type": "display_data",
          "data": {
            "text/plain": [
              "<Figure size 1500x500 with 1 Axes>"
            ],
            "image/png": "[encoded data removed]"
          },
          "metadata": {}
        }
      ]
    },
    {
      "cell_type": "markdown",
      "source": [
        "One of the main issues with getting a low F1 score is an imbalanced data set. We have higher entries that are classified as 0 than 1. We could reduce the number of entries that are classified as 0 to be equal to the number of entries that are classified as 1."
      ],
      "metadata": {
        "id": "lYxzIwOHBjUU"
      }
    },
    {
      "cell_type": "code",
      "source": [
        "#Balance the data\n",
        "scaled_df.label.value_counts()"
      ],
      "metadata": {
        "colab": {
          "base_uri": "https://localhost:8080/"
        },
        "id": "msY2FibKAJ4s",
        "outputId": "c94cf834-dfd5-4742-8375-eb6f2f216da7"
      },
      "execution_count": 168,
      "outputs": [
        {
          "output_type": "execute_result",
          "data": {
            "text/plain": [
              "0    42506\n",
              "1     7476\n",
              "Name: label, dtype: int64"
            ]
          },
          "metadata": {},
          "execution_count": 168
        }
      ]
    },
    {
      "cell_type": "code",
      "source": [
        "#create a dataframe having all labels 0 with 10000 samples\n",
        "scaled_df_0 = scaled_df[scaled_df.label ==0].sample(n=8000)"
      ],
      "metadata": {
        "id": "h_cBRP5VCrkL"
      },
      "execution_count": 169,
      "outputs": []
    },
    {
      "cell_type": "code",
      "source": [
        "#concatenate the two dataframe\n",
        "scaled_df_new = pd.concat([scaled_df[scaled_df.label==1], scaled_df_0], ignore_index=True)"
      ],
      "metadata": {
        "id": "GrsRUmBoCwkI"
      },
      "execution_count": 170,
      "outputs": []
    },
    {
      "cell_type": "code",
      "source": [
        "#shuffle the dataframe rows\n",
        "scaled_df_new = scaled_df_new.sample(frac = 1).reset_index(drop=True)"
      ],
      "metadata": {
        "id": "rwKhOESjC8EN"
      },
      "execution_count": 171,
      "outputs": []
    },
    {
      "cell_type": "code",
      "source": [
        "scaled_df_new"
      ],
      "metadata": {
        "colab": {
          "base_uri": "https://localhost:8080/",
          "height": 487
        },
        "id": "lL7XWSOvC-aN",
        "outputId": "d1040756-03bd-4f46-bda2-a74aaa160a9a"
      },
      "execution_count": 172,
      "outputs": [
        {
          "output_type": "execute_result",
          "data": {
            "text/plain": [
              "       num_passengers  purchase_lead  length_of_stay  flight_hour  flight_day  \\\n",
              "0           -0.579424       0.058332       -0.502969     1.281231   -1.412280   \n",
              "1           -0.579424      -0.531065        1.326356     1.096473   -1.412280   \n",
              "2           -0.579424      -0.708997       -0.532474    -0.935861    0.093214   \n",
              "3           -0.579424      -0.820204       -0.591484    -0.566346    1.598707   \n",
              "4           -0.579424       0.803419       -0.089895    -0.751103    1.598707   \n",
              "...               ...            ...             ...          ...         ...   \n",
              "15471       -0.579424      -0.575548       -0.532474    -0.566346    1.598707   \n",
              "15472        0.400769       1.081437       -0.502969     0.911715    0.595045   \n",
              "15473       -0.579424       0.347470       -0.502969    -0.381588   -1.412280   \n",
              "15474       -0.579424      -0.875807       -0.089895     2.205019   -0.408618   \n",
              "15475        0.400769      -0.508824       -0.502969    -0.196830    0.093214   \n",
              "\n",
              "       wants_extra_baggage  wants_preferred_seat  wants_in_flight_meals  \\\n",
              "0                 0.703587             -0.650054              -0.863557   \n",
              "1                 0.703587             -0.650054              -0.863557   \n",
              "2                 0.703587             -0.650054              -0.863557   \n",
              "3                -1.421288             -0.650054              -0.863557   \n",
              "4                 0.703587              1.538334               1.158002   \n",
              "...                    ...                   ...                    ...   \n",
              "15471            -1.421288             -0.650054              -0.863557   \n",
              "15472             0.703587              1.538334               1.158002   \n",
              "15473            -1.421288             -0.650054              -0.863557   \n",
              "15474            -1.421288             -0.650054              -0.863557   \n",
              "15475             0.703587             -0.650054               1.158002   \n",
              "\n",
              "       flight_duration  Internet    Mobile  RoundTRip  OneWayTrip  CircleTrip  \\\n",
              "0            -1.741921  0.355786 -0.355786  -0.048231   -0.088336    0.100826   \n",
              "1            -1.300985  0.355786 -0.355786  -0.048231   -0.088336    0.100826   \n",
              "2            -0.439155  0.355786 -0.355786  -0.048231   -0.088336    0.100826   \n",
              "3            -0.185282  0.355786 -0.355786  -0.048231   -0.088336    0.100826   \n",
              "4             1.037314  0.355786 -0.355786  -0.048231   -0.088336    0.100826   \n",
              "...                ...       ...       ...        ...         ...         ...   \n",
              "15471        -0.185282  0.355786 -0.355786  -0.048231   -0.088336    0.100826   \n",
              "15472         1.037314  0.355786 -0.355786  -0.048231   -0.088336    0.100826   \n",
              "15473        -1.300985  0.355786 -0.355786  -0.048231   -0.088336    0.100826   \n",
              "15474        -0.632900  0.355786 -0.355786  -0.048231   -0.088336    0.100826   \n",
              "15475        -1.741921  0.355786 -0.355786  -0.048231   -0.088336    0.100826   \n",
              "\n",
              "       label  \n",
              "0          1  \n",
              "1          1  \n",
              "2          1  \n",
              "3          0  \n",
              "4          1  \n",
              "...      ...  \n",
              "15471      1  \n",
              "15472      1  \n",
              "15473      0  \n",
              "15474      1  \n",
              "15475      1  \n",
              "\n",
              "[15476 rows x 15 columns]"
            ],
            "text/html": [
              "\n",
              "  <div id=\"df-459e339e-a58e-4702-bd7f-50098e35740a\">\n",
              "    <div class=\"colab-df-container\">\n",
              "      <div>\n",
              "<style scoped>\n",
              "    .dataframe tbody tr th:only-of-type {\n",
              "        vertical-align: middle;\n",
              "    }\n",
              "\n",
              "    .dataframe tbody tr th {\n",
              "        vertical-align: top;\n",
              "    }\n",
              "\n",
              "    .dataframe thead th {\n",
              "        text-align: right;\n",
              "    }\n",
              "</style>\n",
              "<table border=\"1\" class=\"dataframe\">\n",
              "  <thead>\n",
              "    <tr style=\"text-align: right;\">\n",
              "      <th></th>\n",
              "      <th>num_passengers</th>\n",
              "      <th>purchase_lead</th>\n",
              "      <th>length_of_stay</th>\n",
              "      <th>flight_hour</th>\n",
              "      <th>flight_day</th>\n",
              "      <th>wants_extra_baggage</th>\n",
              "      <th>wants_preferred_seat</th>\n",
              "      <th>wants_in_flight_meals</th>\n",
              "      <th>flight_duration</th>\n",
              "      <th>Internet</th>\n",
              "      <th>Mobile</th>\n",
              "      <th>RoundTRip</th>\n",
              "      <th>OneWayTrip</th>\n",
              "      <th>CircleTrip</th>\n",
              "      <th>label</th>\n",
              "    </tr>\n",
              "  </thead>\n",
              "  <tbody>\n",
              "    <tr>\n",
              "      <th>0</th>\n",
              "      <td>-0.579424</td>\n",
              "      <td>0.058332</td>\n",
              "      <td>-0.502969</td>\n",
              "      <td>1.281231</td>\n",
              "      <td>-1.412280</td>\n",
              "      <td>0.703587</td>\n",
              "      <td>-0.650054</td>\n",
              "      <td>-0.863557</td>\n",
              "      <td>-1.741921</td>\n",
              "      <td>0.355786</td>\n",
              "      <td>-0.355786</td>\n",
              "      <td>-0.048231</td>\n",
              "      <td>-0.088336</td>\n",
              "      <td>0.100826</td>\n",
              "      <td>1</td>\n",
              "    </tr>\n",
              "    <tr>\n",
              "      <th>1</th>\n",
              "      <td>-0.579424</td>\n",
              "      <td>-0.531065</td>\n",
              "      <td>1.326356</td>\n",
              "      <td>1.096473</td>\n",
              "      <td>-1.412280</td>\n",
              "      <td>0.703587</td>\n",
              "      <td>-0.650054</td>\n",
              "      <td>-0.863557</td>\n",
              "      <td>-1.300985</td>\n",
              "      <td>0.355786</td>\n",
              "      <td>-0.355786</td>\n",
              "      <td>-0.048231</td>\n",
              "      <td>-0.088336</td>\n",
              "      <td>0.100826</td>\n",
              "      <td>1</td>\n",
              "    </tr>\n",
              "    <tr>\n",
              "      <th>2</th>\n",
              "      <td>-0.579424</td>\n",
              "      <td>-0.708997</td>\n",
              "      <td>-0.532474</td>\n",
              "      <td>-0.935861</td>\n",
              "      <td>0.093214</td>\n",
              "      <td>0.703587</td>\n",
              "      <td>-0.650054</td>\n",
              "      <td>-0.863557</td>\n",
              "      <td>-0.439155</td>\n",
              "      <td>0.355786</td>\n",
              "      <td>-0.355786</td>\n",
              "      <td>-0.048231</td>\n",
              "      <td>-0.088336</td>\n",
              "      <td>0.100826</td>\n",
              "      <td>1</td>\n",
              "    </tr>\n",
              "    <tr>\n",
              "      <th>3</th>\n",
              "      <td>-0.579424</td>\n",
              "      <td>-0.820204</td>\n",
              "      <td>-0.591484</td>\n",
              "      <td>-0.566346</td>\n",
              "      <td>1.598707</td>\n",
              "      <td>-1.421288</td>\n",
              "      <td>-0.650054</td>\n",
              "      <td>-0.863557</td>\n",
              "      <td>-0.185282</td>\n",
              "      <td>0.355786</td>\n",
              "      <td>-0.355786</td>\n",
              "      <td>-0.048231</td>\n",
              "      <td>-0.088336</td>\n",
              "      <td>0.100826</td>\n",
              "      <td>0</td>\n",
              "    </tr>\n",
              "    <tr>\n",
              "      <th>4</th>\n",
              "      <td>-0.579424</td>\n",
              "      <td>0.803419</td>\n",
              "      <td>-0.089895</td>\n",
              "      <td>-0.751103</td>\n",
              "      <td>1.598707</td>\n",
              "      <td>0.703587</td>\n",
              "      <td>1.538334</td>\n",
              "      <td>1.158002</td>\n",
              "      <td>1.037314</td>\n",
              "      <td>0.355786</td>\n",
              "      <td>-0.355786</td>\n",
              "      <td>-0.048231</td>\n",
              "      <td>-0.088336</td>\n",
              "      <td>0.100826</td>\n",
              "      <td>1</td>\n",
              "    </tr>\n",
              "    <tr>\n",
              "      <th>...</th>\n",
              "      <td>...</td>\n",
              "      <td>...</td>\n",
              "      <td>...</td>\n",
              "      <td>...</td>\n",
              "      <td>...</td>\n",
              "      <td>...</td>\n",
              "      <td>...</td>\n",
              "      <td>...</td>\n",
              "      <td>...</td>\n",
              "      <td>...</td>\n",
              "      <td>...</td>\n",
              "      <td>...</td>\n",
              "      <td>...</td>\n",
              "      <td>...</td>\n",
              "      <td>...</td>\n",
              "    </tr>\n",
              "    <tr>\n",
              "      <th>15471</th>\n",
              "      <td>-0.579424</td>\n",
              "      <td>-0.575548</td>\n",
              "      <td>-0.532474</td>\n",
              "      <td>-0.566346</td>\n",
              "      <td>1.598707</td>\n",
              "      <td>-1.421288</td>\n",
              "      <td>-0.650054</td>\n",
              "      <td>-0.863557</td>\n",
              "      <td>-0.185282</td>\n",
              "      <td>0.355786</td>\n",
              "      <td>-0.355786</td>\n",
              "      <td>-0.048231</td>\n",
              "      <td>-0.088336</td>\n",
              "      <td>0.100826</td>\n",
              "      <td>1</td>\n",
              "    </tr>\n",
              "    <tr>\n",
              "      <th>15472</th>\n",
              "      <td>0.400769</td>\n",
              "      <td>1.081437</td>\n",
              "      <td>-0.502969</td>\n",
              "      <td>0.911715</td>\n",
              "      <td>0.595045</td>\n",
              "      <td>0.703587</td>\n",
              "      <td>1.538334</td>\n",
              "      <td>1.158002</td>\n",
              "      <td>1.037314</td>\n",
              "      <td>0.355786</td>\n",
              "      <td>-0.355786</td>\n",
              "      <td>-0.048231</td>\n",
              "      <td>-0.088336</td>\n",
              "      <td>0.100826</td>\n",
              "      <td>1</td>\n",
              "    </tr>\n",
              "    <tr>\n",
              "      <th>15473</th>\n",
              "      <td>-0.579424</td>\n",
              "      <td>0.347470</td>\n",
              "      <td>-0.502969</td>\n",
              "      <td>-0.381588</td>\n",
              "      <td>-1.412280</td>\n",
              "      <td>-1.421288</td>\n",
              "      <td>-0.650054</td>\n",
              "      <td>-0.863557</td>\n",
              "      <td>-1.300985</td>\n",
              "      <td>0.355786</td>\n",
              "      <td>-0.355786</td>\n",
              "      <td>-0.048231</td>\n",
              "      <td>-0.088336</td>\n",
              "      <td>0.100826</td>\n",
              "      <td>0</td>\n",
              "    </tr>\n",
              "    <tr>\n",
              "      <th>15474</th>\n",
              "      <td>-0.579424</td>\n",
              "      <td>-0.875807</td>\n",
              "      <td>-0.089895</td>\n",
              "      <td>2.205019</td>\n",
              "      <td>-0.408618</td>\n",
              "      <td>-1.421288</td>\n",
              "      <td>-0.650054</td>\n",
              "      <td>-0.863557</td>\n",
              "      <td>-0.632900</td>\n",
              "      <td>0.355786</td>\n",
              "      <td>-0.355786</td>\n",
              "      <td>-0.048231</td>\n",
              "      <td>-0.088336</td>\n",
              "      <td>0.100826</td>\n",
              "      <td>1</td>\n",
              "    </tr>\n",
              "    <tr>\n",
              "      <th>15475</th>\n",
              "      <td>0.400769</td>\n",
              "      <td>-0.508824</td>\n",
              "      <td>-0.502969</td>\n",
              "      <td>-0.196830</td>\n",
              "      <td>0.093214</td>\n",
              "      <td>0.703587</td>\n",
              "      <td>-0.650054</td>\n",
              "      <td>1.158002</td>\n",
              "      <td>-1.741921</td>\n",
              "      <td>0.355786</td>\n",
              "      <td>-0.355786</td>\n",
              "      <td>-0.048231</td>\n",
              "      <td>-0.088336</td>\n",
              "      <td>0.100826</td>\n",
              "      <td>1</td>\n",
              "    </tr>\n",
              "  </tbody>\n",
              "</table>\n",
              "<p>15476 rows × 15 columns</p>\n",
              "</div>\n",
              "      <button class=\"colab-df-convert\" onclick=\"convertToInteractive('df-459e339e-a58e-4702-bd7f-50098e35740a')\"\n",
              "              title=\"Convert this dataframe to an interactive table.\"\n",
              "              style=\"display:none;\">\n",
              "        \n",
              "  <svg xmlns=\"http://www.w3.org/2000/svg\" height=\"24px\"viewBox=\"0 0 24 24\"\n",
              "       width=\"24px\">\n",
              "    <path d=\"M0 0h24v24H0V0z\" fill=\"none\"/>\n",
              "    <path d=\"M18.56 5.44l.94 2.06.94-2.06 2.06-.94-2.06-.94-.94-2.06-.94 2.06-2.06.94zm-11 1L8.5 8.5l.94-2.06 2.06-.94-2.06-.94L8.5 2.5l-.94 2.06-2.06.94zm10 10l.94 2.06.94-2.06 2.06-.94-2.06-.94-.94-2.06-.94 2.06-2.06.94z\"/><path d=\"M17.41 7.96l-1.37-1.37c-.4-.4-.92-.59-1.43-.59-.52 0-1.04.2-1.43.59L10.3 9.45l-7.72 7.72c-.78.78-.78 2.05 0 2.83L4 21.41c.39.39.9.59 1.41.59.51 0 1.02-.2 1.41-.59l7.78-7.78 2.81-2.81c.8-.78.8-2.07 0-2.86zM5.41 20L4 18.59l7.72-7.72 1.47 1.35L5.41 20z\"/>\n",
              "  </svg>\n",
              "      </button>\n",
              "      \n",
              "  <style>\n",
              "    .colab-df-container {\n",
              "      display:flex;\n",
              "      flex-wrap:wrap;\n",
              "      gap: 12px;\n",
              "    }\n",
              "\n",
              "    .colab-df-convert {\n",
              "      background-color: #E8F0FE;\n",
              "      border: none;\n",
              "      border-radius: 50%;\n",
              "      cursor: pointer;\n",
              "      display: none;\n",
              "      fill: #1967D2;\n",
              "      height: 32px;\n",
              "      padding: 0 0 0 0;\n",
              "      width: 32px;\n",
              "    }\n",
              "\n",
              "    .colab-df-convert:hover {\n",
              "      background-color: #E2EBFA;\n",
              "      box-shadow: 0px 1px 2px rgba(60, 64, 67, 0.3), 0px 1px 3px 1px rgba(60, 64, 67, 0.15);\n",
              "      fill: #174EA6;\n",
              "    }\n",
              "\n",
              "    [theme=dark] .colab-df-convert {\n",
              "      background-color: #3B4455;\n",
              "      fill: #D2E3FC;\n",
              "    }\n",
              "\n",
              "    [theme=dark] .colab-df-convert:hover {\n",
              "      background-color: #434B5C;\n",
              "      box-shadow: 0px 1px 3px 1px rgba(0, 0, 0, 0.15);\n",
              "      filter: drop-shadow(0px 1px 2px rgba(0, 0, 0, 0.3));\n",
              "      fill: #FFFFFF;\n",
              "    }\n",
              "  </style>\n",
              "\n",
              "      <script>\n",
              "        const buttonEl =\n",
              "          document.querySelector('#df-459e339e-a58e-4702-bd7f-50098e35740a button.colab-df-convert');\n",
              "        buttonEl.style.display =\n",
              "          google.colab.kernel.accessAllowed ? 'block' : 'none';\n",
              "\n",
              "        async function convertToInteractive(key) {\n",
              "          const element = document.querySelector('#df-459e339e-a58e-4702-bd7f-50098e35740a');\n",
              "          const dataTable =\n",
              "            await google.colab.kernel.invokeFunction('convertToInteractive',\n",
              "                                                     [key], {});\n",
              "          if (!dataTable) return;\n",
              "\n",
              "          const docLinkHtml = 'Like what you see? Visit the ' +\n",
              "            '<a target=\"_blank\" href=https://colab.research.google.com/notebooks/data_table.ipynb>data table notebook</a>'\n",
              "            + ' to learn more about interactive tables.';\n",
              "          element.innerHTML = '';\n",
              "          dataTable['output_type'] = 'display_data';\n",
              "          await google.colab.output.renderOutput(dataTable, element);\n",
              "          const docLink = document.createElement('div');\n",
              "          docLink.innerHTML = docLinkHtml;\n",
              "          element.appendChild(docLink);\n",
              "        }\n",
              "      </script>\n",
              "    </div>\n",
              "  </div>\n",
              "  "
            ]
          },
          "metadata": {},
          "execution_count": 172
        }
      ]
    },
    {
      "cell_type": "code",
      "source": [
        "X = scaled_df_new.iloc[:,:-1]\n",
        "y = scaled_df_new['label']\n",
        "X_train, X_test, y_train, y_test = train_test_split(X.to_numpy(), y.to_numpy(), test_size=0.20, random_state=42)"
      ],
      "metadata": {
        "id": "UYGEhhOUDAC1"
      },
      "execution_count": 173,
      "outputs": []
    },
    {
      "cell_type": "code",
      "source": [
        "#create an instance of the classifier and fit the training data\n",
        "cl_ranffor = RandomForestClassifier(n_estimators=50,max_depth =50 , min_samples_split=5,random_state=0)"
      ],
      "metadata": {
        "id": "S0xSWvc1DNc9"
      },
      "execution_count": 174,
      "outputs": []
    },
    {
      "cell_type": "code",
      "source": [
        "y_pred_test = model_fit_predict(cl_ranfor, X_train, y_train, X_test)\n",
        "\n",
        "#f1 score for training data\n",
        "f1 = round(f1_score(y_test, y_pred_test),2) \n",
        "\n",
        "#accuracy score for training data\n",
        "acc = round(accuracy_score(y_test, y_pred_test),2) \n",
        "\n",
        "#precision score for training data\n",
        "pre = round(precision_score(y_test, y_pred_test),2) \n",
        "\n",
        "recall = round(recall_score(y_test, y_pred_test),2)\n",
        "\n",
        "specificity = round(recall_score(y_test, y_pred_test, pos_label=0),2)\n",
        "\n",
        "print(f\"Accuracy, precision, recall and f1-score for training data are {acc}, {pre}, {recall}, {specificity} and {f1} respectively\")"
      ],
      "metadata": {
        "colab": {
          "base_uri": "https://localhost:8080/"
        },
        "id": "kcxHOg-aDWNY",
        "outputId": "201bee59-ccd6-425a-f0e2-53b2cfbf27b8"
      },
      "execution_count": 175,
      "outputs": [
        {
          "output_type": "stream",
          "name": "stdout",
          "text": [
            "Accuracy, precision, recall and f1-score for training data are 0.62, 0.61, 0.59, 0.64 and 0.6 respectively\n"
          ]
        }
      ]
    },
    {
      "cell_type": "code",
      "source": [
        "#confusion matrix\n",
        "cm = ConfusionMatrix(cl_ranfor, classes=[0,1])\n",
        "cm.fit(X_train, y_train)\n",
        "\n",
        "cm.score(X_test, y_test)"
      ],
      "metadata": {
        "colab": {
          "base_uri": "https://localhost:8080/",
          "height": 496
        },
        "id": "aBckiZdnDiys",
        "outputId": "daec6051-3059-42a0-d811-1e79356456c1"
      },
      "execution_count": 176,
      "outputs": [
        {
          "output_type": "execute_result",
          "data": {
            "text/plain": [
              "0.6198320413436692"
            ]
          },
          "metadata": {},
          "execution_count": 176
        },
        {
          "output_type": "display_data",
          "data": {
            "text/plain": [
              "<Figure size 800x550 with 1 Axes>"
            ],
            "image/png": "[encoded data removed]"
          },
          "metadata": {}
        }
      ]
    },
    {
      "cell_type": "code",
      "source": [
        "plt.figure(figsize=(15,5))\n",
        "sorted_idx = cl_ranfor.feature_importances_.argsort()\n",
        "plt.barh(scaled_df.iloc[:,:-1].columns[sorted_idx], cl_ranfor.feature_importances_[sorted_idx])\n",
        "plt.xlabel(\"Random Forest Feature Importance\")"
      ],
      "metadata": {
        "colab": {
          "base_uri": "https://localhost:8080/",
          "height": 482
        },
        "id": "2uDzQvNvDr4g",
        "outputId": "0e9279e1-47e3-44ad-8ccc-ec14c607437a"
      },
      "execution_count": 179,
      "outputs": [
        {
          "output_type": "execute_result",
          "data": {
            "text/plain": [
              "Text(0.5, 0, 'Random Forest Feature Importance')"
            ]
          },
          "metadata": {},
          "execution_count": 179
        },
        {
          "output_type": "display_data",
          "data": {
            "text/plain": [
              "<Figure size 1500x500 with 1 Axes>"
            ],
            "image/png": "[encoded data removed]"
          },
          "metadata": {}
        }
      ]
    }
  ]
}